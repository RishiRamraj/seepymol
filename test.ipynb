{
 "metadata": {
  "name": "test"
 },
 "nbformat": 3,
 "nbformat_minor": 0,
 "worksheets": [
  {
   "cells": [
    {
     "cell_type": "code",
     "collapsed": false,
     "input": [
      "%load_ext seepymol"
     ],
     "language": "python",
     "metadata": {},
     "outputs": [
      {
       "output_type": "stream",
       "stream": "stdout",
       "text": [
        "The seepymol extension is already loaded. To reload it, use:\n",
        "  %reload_ext seepymol\n"
       ]
      },
      {
       "output_type": "display_data",
       "text": [
        "Protein "
       ]
      }
     ],
     "prompt_number": 4
    },
    {
     "cell_type": "code",
     "collapsed": false,
     "input": [
      "from MMTK.Proteins import Protein\n",
      "from IPython.display import display\n",
      "protein = Protein('insulin.pdb')\n",
      "display(protein)"
     ],
     "language": "python",
     "metadata": {},
     "outputs": []
    }
   ],
   "metadata": {}
  }
 ]
}