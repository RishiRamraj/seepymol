{
 "metadata": {
  "name": "test"
 },
 "nbformat": 3,
 "nbformat_minor": 0,
 "worksheets": [
  {
   "cells": [
    {
     "cell_type": "heading",
     "level": 4,
     "metadata": {},
     "source": [
      "This notebook demonstrates molecular visualization using the Molecular Modelling Toolkit (MMTK) in combination with jsMol."
     ]
    },
    {
     "cell_type": "code",
     "collapsed": false,
     "input": [
      "%load_ext seepymol\n",
      "from IPython.display import display"
     ],
     "language": "python",
     "metadata": {},
     "outputs": [],
     "prompt_number": 3
    },
    {
     "cell_type": "markdown",
     "metadata": {},
     "source": [
      "Any individual ChemicalObject derived class in MMTK can be visualized. In the simplest case, here is an individual hydrogen atom positioned at a particular X,Y,Z coordinate."
     ]
    },
    {
     "cell_type": "code",
     "collapsed": false,
     "input": [
      "from MMTK import Atom\n",
      "from MMTK import Vector\n",
      "hydrogen = Atom('H',position=Vector([-0.3,-0.3,0]))\n",
      "display(hydrogen)"
     ],
     "language": "python",
     "metadata": {},
     "outputs": [
      {
       "json": {
        "handler": "ChemicalObject",
        "pdb": "HETATM    1  H     H     1      -3.000  -3.000   0.000  0.00  0.00           H\n"
       },
       "output_type": "display_data",
       "text": [
        "Atom hydrogen"
       ]
      }
     ],
     "prompt_number": 14
    },
    {
     "cell_type": "markdown",
     "metadata": {},
     "source": [
      "Individual molecules stored in the server-side Molecule database can be loaded."
     ]
    },
    {
     "cell_type": "code",
     "collapsed": false,
     "input": [
      "from MMTK import Molecule\n",
      "h2o = Molecule('water')\n",
      "display(h2o)"
     ],
     "language": "python",
     "metadata": {},
     "outputs": [
      {
       "json": {
        "handler": "ChemicalObject",
        "pdb": "HETATM    1  H1  HOH     1      -0.757   0.000  -0.520  0.00  0.00           H\nHETATM    2  H2  HOH     1       0.757   0.000  -0.520  0.00  0.00           H\nHETATM    3  O   HOH     1       0.000   0.000   0.066  0.00  0.00           O\n"
       },
       "output_type": "display_data",
       "text": [
        "Molecule water"
       ]
      }
     ],
     "prompt_number": 5
    },
    {
     "cell_type": "markdown",
     "metadata": {},
     "source": [
      "Proteins stored in the server-side MMTK protein database can also be visualized."
     ]
    },
    {
     "cell_type": "code",
     "collapsed": false,
     "input": [
      "from MMTK.Proteins import Protein\n",
      "protein = Protein('insulin')\n",
      "display(protein)"
     ],
     "language": "python",
     "metadata": {},
     "outputs": [
      {
       "json": {
        "handler": "ChemicalObject",
        "pdb": "HETATM    1  H     H     1      -3.060  -3.060   0.000  0.00  0.00           H\n"
       },
       "output_type": "display_data",
       "text": [
        "Atom hydrogen"
       ]
      }
     ],
     "prompt_number": 9
    }
   ],
   "metadata": {}
  }
 ]
}